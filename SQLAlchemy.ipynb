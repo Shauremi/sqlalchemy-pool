{
  "nbformat": 4,
  "nbformat_minor": 0,
  "metadata": {
    "colab": {
      "provenance": []
    },
    "kernelspec": {
      "name": "python3",
      "display_name": "Python 3"
    },
    "language_info": {
      "name": "python"
    }
  },
  "cells": [
    {
      "cell_type": "code",
      "source": [
        "!pip install faker\n",
        "!pip install randomtimestamp"
      ],
      "metadata": {
        "colab": {
          "base_uri": "https://localhost:8080/"
        },
        "id": "HypfBI-MGmz_",
        "outputId": "0d8681f5-4eae-4440-8889-6789c2b9a9ed"
      },
      "execution_count": null,
      "outputs": [
        {
          "output_type": "stream",
          "name": "stdout",
          "text": [
            "Requirement already satisfied: faker in /usr/local/lib/python3.10/dist-packages (22.5.1)\n",
            "Requirement already satisfied: python-dateutil>=2.4 in /usr/local/lib/python3.10/dist-packages (from faker) (2.8.2)\n",
            "Requirement already satisfied: six>=1.5 in /usr/local/lib/python3.10/dist-packages (from python-dateutil>=2.4->faker) (1.16.0)\n",
            "Requirement already satisfied: randomtimestamp in /usr/local/lib/python3.10/dist-packages (2.2)\n"
          ]
        }
      ]
    },
    {
      "cell_type": "code",
      "execution_count": null,
      "metadata": {
        "id": "Te8qawa0q_rk",
        "cellView": "form"
      },
      "outputs": [],
      "source": [
        "# @title Подключение библиотек\n",
        "import sqlite3\n",
        "import os\n",
        "from faker import Faker\n",
        "from random import randint\n",
        "from randomtimestamp import randomtimestamp\n",
        "from sqlalchemy import UUID, Column, String, Integer, ForeignKey, Float, Date, select, func, DDL, event\n",
        "from typing import List\n",
        "from sqlalchemy.sql import text\n",
        "from sqlalchemy.orm import relationship, Mapped, declarative_base, sessionmaker\n",
        "from sqlalchemy.engine import URL, create_engine\n",
        "from sqlalchemy.exc import SQLAlchemyError\n",
        "from datetime import datetime, timedelta\n",
        "\n",
        "CATEGORY_NAMES = [\"Дети\", \"Подростки\", \"Студенты\", \"Семейная пара\", \"Пенсионеры\", \"Инвалиды\", \"Граждане\"]\n",
        "MAINTENANCES_TYPES = [\"Regular cleaning\", \"repair\", \"chemical treatment\", 'filter replacement']\n",
        "SERVICES_NAMES = [\"Аквааэробика\", \"Прокат нарукавников\", \"Прокат круга для плавания\", \"Прокат шапочки для плавания\", \"Прокат спасательного жилета\"]"
      ]
    },
    {
      "cell_type": "code",
      "source": [
        "# @title Создание базы\n",
        "engine = create_engine(\"sqlite:///database.db\")\n",
        "Base = declarative_base()"
      ],
      "metadata": {
        "id": "gdpEWgFMrOGM",
        "cellView": "form"
      },
      "execution_count": null,
      "outputs": []
    },
    {
      "cell_type": "code",
      "source": [
        "# @title Создание моделей\n",
        "class Category(Base):\n",
        "    __tablename__ = 'categories'\n",
        "\n",
        "    category_ID = Column(Integer, primary_key=True)\n",
        "    category_name = Column(String, nullable=False)\n",
        "    category_cost = Column(Integer, nullable=False)\n",
        "\n",
        "    subscriptions = relationship('Subscription', back_populates='category')\n",
        "\n",
        "class Clients(Base):\n",
        "    __tablename__ = 'clients'\n",
        "\n",
        "    client_ID = Column(Integer, primary_key=True)\n",
        "    client_name = Column(String, nullable=False)\n",
        "    client_birthdate = Column(Date, nullable=False)\n",
        "    client_phone_number = Column(String, nullable=False)\n",
        "\n",
        "    subscriptions = relationship('Subscription', back_populates='client')\n",
        "\n",
        "class Coach(Base):\n",
        "    __tablename__ = 'coaches'\n",
        "\n",
        "    coach_ID = Column(Integer, primary_key=True)\n",
        "    coach_name = Column(String, nullable=False)\n",
        "\n",
        "    group_lessons = relationship('GroupLesson', back_populates='coach')\n",
        "\n",
        "class Lesson(Base):\n",
        "    __tablename__ = 'lessons'\n",
        "\n",
        "    lesson_ID = Column(Integer, primary_key=True)\n",
        "\n",
        "    subscription_ID = Column(Integer, ForeignKey('subscriptions.subscription_ID'))\n",
        "    pool_room_id = Column(Integer, ForeignKey('pool_rooms.pool_room_ID'))\n",
        "\n",
        "    lesson_date = Column(Date, nullable=False)\n",
        "    visiting_time = Column(String, nullable=False)\n",
        "    track_num = Column(Integer, nullable=False)\n",
        "\n",
        "    group_lessons = relationship('GroupLesson', back_populates='lesson')\n",
        "    subscription = relationship('Subscription', back_populates='lessons')\n",
        "    pool_room = relationship('PoolRoom', back_populates='lessons')\n",
        "    lesson_services = relationship('LessonService', back_populates='lesson')\n",
        "\n",
        "class GroupLesson(Base):\n",
        "    __tablename__ = 'group_lessons'\n",
        "\n",
        "    group_lesson_ID = Column(Integer, ForeignKey('lessons.lesson_ID'), primary_key=True)\n",
        "    coach_id = Column(Integer, ForeignKey('coaches.coach_ID'), primary_key=True)\n",
        "\n",
        "    lesson = relationship('Lesson', back_populates='group_lessons')\n",
        "    coach = relationship('Coach', back_populates='group_lessons')\n",
        "\n",
        "class LessonService(Base):\n",
        "    __tablename__ = 'lesson_services'\n",
        "\n",
        "    service_ID = Column(Integer, ForeignKey('services.service_ID'), primary_key=True)\n",
        "    lesson_ID = Column(Integer, ForeignKey('lessons.lesson_ID'), primary_key=True)\n",
        "\n",
        "    services = relationship('Service', back_populates='lesson_services')\n",
        "    lesson = relationship('Lesson', back_populates='lesson_services')\n",
        "\n",
        "class Maintenance(Base):\n",
        "    __tablename__ = 'maintenance'\n",
        "    maintenances_ID = Column(Integer, primary_key=True)\n",
        "    maintenance_date = Column(Date, nullable=False)\n",
        "    maintenance_type = Column(String, nullable=False)\n",
        "    pool_room_ID = Column(Integer, ForeignKey('pool_rooms.pool_room_ID'))\n",
        "\n",
        "    pool_room = relationship('PoolRoom', back_populates='maintenances')\n",
        "\n",
        "class PoolRoom(Base):\n",
        "    __tablename__ = 'pool_rooms'\n",
        "\n",
        "    pool_room_ID = Column(Integer, primary_key=True)\n",
        "    quantity_tracks = Column(Integer, nullable=False)\n",
        "\n",
        "    lessons = relationship('Lesson', back_populates='pool_room')\n",
        "    maintenances = relationship('Maintenance', back_populates='pool_room')\n",
        "\n",
        "class Service(Base):\n",
        "    __tablename__ = 'services'\n",
        "\n",
        "    service_ID = Column(Integer, primary_key=True)\n",
        "    service_name = Column(String, nullable=False)\n",
        "    service_price = Column(Integer, nullable=False)\n",
        "    lesson_services = relationship('LessonService', back_populates='services')\n",
        "\n",
        "class Subscription(Base):\n",
        "    __tablename__ = 'subscriptions'\n",
        "\n",
        "    subscription_ID = Column(Integer, primary_key=True)\n",
        "    subscription_start_day = Column(Date, nullable=False)\n",
        "    subscription_end_day = Column(Date, nullable=False)\n",
        "    client_ID = Column(Integer, ForeignKey('clients.client_ID'))\n",
        "    category_ID = Column(Integer, ForeignKey('categories.category_ID'))\n",
        "\n",
        "    client = relationship('Clients', back_populates='subscriptions')\n",
        "    category = relationship('Category', back_populates='subscriptions')\n",
        "    lessons = relationship('Lesson', back_populates='subscription')\n"
      ],
      "metadata": {
        "id": "zatUcA4Os0FA"
      },
      "execution_count": null,
      "outputs": []
    },
    {
      "cell_type": "code",
      "source": [
        "# @title Создание таблиц в соответствии с моделями\n",
        "Base.metadata.create_all(bind=engine)\n",
        "Session = sessionmaker(autoflush=False, bind=engine)"
      ],
      "metadata": {
        "id": "WqLkdEDhtWmo",
        "cellView": "form"
      },
      "execution_count": null,
      "outputs": []
    },
    {
      "cell_type": "code",
      "source": [
        "# @title Генерация данных\n",
        "fake = Faker()\n",
        "categories = [Category(category_name=category, category_cost = randint(100, 300)) for category in CATEGORY_NAMES]\n",
        "maintenances = [Maintenance(maintenance_date = randomtimestamp(text=False), maintenance_type = maintenance, pool_room_ID = randint(1,2)) for maintenance in MAINTENANCES_TYPES]\n",
        "coaches = [Coach(coach_name = fake.name()) for _ in range(10)]\n",
        "clients = [Clients(client_name = fake.name(), client_birthdate = datetime.strptime(fake.date(), '%Y-%m-%d'), client_phone_number = fake.phone_number())]\n",
        "pool_rooms = [PoolRoom(quantity_tracks = randint(1,3)) for _ in range(4)]\n",
        "services = [Service(service_name = service, service_price = randint(130,300)) for service in SERVICES_NAMES]\n",
        "subscriptions = [Subscription(subscription_start_day = (start_day := datetime.strptime(fake.date(), '%Y-%m-%d')), subscription_end_day = start_day + timedelta(days=30), client_ID = i, category_ID = randint(1, 7)) for i in range(10)]\n",
        "lessons = [Lesson(subscription_ID = i, pool_room_id = randint(1,4), lesson_date = datetime.strptime(fake.date(), '%Y-%m-%d'), visiting_time = '16:00 - 17:00', track_num = randint(1,5)) for i in range(10)]\n",
        "group_lessons = [GroupLesson(group_lesson_ID = randint(1,10), coach_id = randint(1, 10)) for i in range(4)]\n",
        "lesson_services = [LessonService(service_ID = randint(1,len(SERVICES_NAMES)), lesson_ID = randint(1,10)) for i in range(4)]"
      ],
      "metadata": {
        "id": "kmnuiYXeFg2_",
        "cellView": "form"
      },
      "execution_count": null,
      "outputs": []
    },
    {
      "cell_type": "code",
      "source": [
        "# @title Добавление\n",
        "with Session(autoflush=False, bind=engine) as session:\n",
        "  try:\n",
        "    session.add_all(categories)\n",
        "    session.add_all(maintenances)\n",
        "    session.add_all(coaches)\n",
        "    session.add_all(clients)\n",
        "    session.add_all(pool_rooms)\n",
        "    session.add_all(services)\n",
        "    session.add_all(subscriptions)\n",
        "    session.add_all(lessons)\n",
        "    session.add_all(group_lessons)\n",
        "    session.add_all(lesson_services)\n",
        "    session.commit()\n",
        "  except SQLAlchemyError as ex:\n",
        "    session.rollback()\n",
        "    print(f\"Возникла ошибка: {ex}\")"
      ],
      "metadata": {
        "cellView": "form",
        "id": "x0asA5Hqnwta"
      },
      "execution_count": null,
      "outputs": []
    },
    {
      "cell_type": "code",
      "source": [
        "# @title Чтение\n",
        "with Session(autoflush = False, bind = engine) as session:\n",
        "  maintenances_ = session.query(Maintenance).all()\n",
        "  for maintenance in maintenances_:\n",
        "    print(maintenance.maintenances_ID, maintenance.maintenance_date, maintenance.maintenance_type)"
      ],
      "metadata": {
        "colab": {
          "base_uri": "https://localhost:8080/"
        },
        "cellView": "form",
        "id": "FQc0XC7-l1kG",
        "outputId": "a74a68ab-4e03-4fd9-8b89-5358e78f875e"
      },
      "execution_count": null,
      "outputs": [
        {
          "output_type": "stream",
          "name": "stdout",
          "text": [
            "1 1976-12-25 Regular cleaning\n",
            "3 1989-05-02 Пример Тип обслуживания\n",
            "4 2015-06-15 filter replacement\n",
            "5 1991-07-20 Regular cleaning\n",
            "6 1979-03-15 repair\n",
            "7 1963-07-08 chemical treatment\n",
            "8 1990-01-21 filter replacement\n",
            "9 1972-06-17 Regular cleaning\n",
            "10 1988-01-06 repair\n",
            "11 1956-03-09 chemical treatment\n",
            "12 1951-05-26 filter replacement\n",
            "13 1983-10-01 Regular cleaning\n",
            "14 1998-05-03 repair\n",
            "15 1950-03-07 chemical treatment\n",
            "16 2000-02-25 filter replacement\n"
          ]
        }
      ]
    },
    {
      "cell_type": "code",
      "source": [
        "# @title Обновление\n",
        "with Session(autoflush = False, bind = engine) as session:\n",
        "  maintenance = session.query(Maintenance).get(3)\n",
        "  maintenance.maintenance_type = \"Пример Тип обслуживания\"\n",
        "  session.commit()"
      ],
      "metadata": {
        "colab": {
          "base_uri": "https://localhost:8080/"
        },
        "cellView": "form",
        "id": "gN0e8d5c7WRW",
        "outputId": "c0c33676-5055-4cec-f0a9-e09e75f317b2"
      },
      "execution_count": null,
      "outputs": [
        {
          "output_type": "stream",
          "name": "stderr",
          "text": [
            "<ipython-input-54-f46f0da27d63>:2: LegacyAPIWarning: The Query.get() method is considered legacy as of the 1.x series of SQLAlchemy and becomes a legacy construct in 2.0. The method is now available as Session.get() (deprecated since: 2.0) (Background on SQLAlchemy 2.0 at: https://sqlalche.me/e/b8d9)\n",
            "  maintenance = session.query(Maintenance).get(3)\n"
          ]
        }
      ]
    },
    {
      "cell_type": "code",
      "source": [
        "# @title Удаление\n",
        "with Session(autoflush = False, bind = engine) as session:\n",
        "  maintenance = session.query(Maintenance).get(2)\n",
        "  session.delete(maintenance)\n",
        "  session.commit()"
      ],
      "metadata": {
        "colab": {
          "base_uri": "https://localhost:8080/"
        },
        "cellView": "form",
        "id": "ILtEzH4h7xbW",
        "outputId": "4a96a584-acb0-4149-9bc6-9ea9c6ef1a5a"
      },
      "execution_count": null,
      "outputs": [
        {
          "output_type": "stream",
          "name": "stderr",
          "text": [
            "<ipython-input-56-b4c04881e620>:2: LegacyAPIWarning: The Query.get() method is considered legacy as of the 1.x series of SQLAlchemy and becomes a legacy construct in 2.0. The method is now available as Session.get() (deprecated since: 2.0) (Background on SQLAlchemy 2.0 at: https://sqlalche.me/e/b8d9)\n",
            "  maintenance = session.query(Maintenance).get(2)\n"
          ]
        }
      ]
    },
    {
      "cell_type": "code",
      "source": [
        "# @title Сложный запрос\n",
        "# формируем запрос\n",
        "query = session.query(\n",
        "    Subscription.client_ID,\n",
        "    func.count(Subscription.client_ID).label('total')\n",
        ").join(\n",
        "    Clients, Subscription.client_ID == Clients.client_ID\n",
        ").group_by(\n",
        "    Subscription.client_ID\n",
        ").having(\n",
        "    func.count(Subscription.client_ID) >= 2\n",
        ").order_by(\n",
        "    Subscription.client_ID\n",
        ")\n",
        "\n",
        "results = query.all()\n",
        "for result in results:\n",
        "  print(result)\n",
        "\n",
        "session.close()"
      ],
      "metadata": {
        "colab": {
          "base_uri": "https://localhost:8080/"
        },
        "cellView": "form",
        "id": "90o5A_inVmAc",
        "outputId": "5366a5ba-7aa2-401d-a518-56a0d74119c7"
      },
      "execution_count": null,
      "outputs": [
        {
          "output_type": "stream",
          "name": "stdout",
          "text": [
            "(1, 2)\n",
            "(2, 2)\n",
            "(3, 2)\n"
          ]
        }
      ]
    },
    {
      "cell_type": "code",
      "source": [
        "# @title Транзакция\n",
        "with Session(autoflush = False, bind = engine) as session:\n",
        "  session.begin_nested()\n",
        "  try:\n",
        "      client = Clients(client_name = \"Robert Polsen\", client_birthdate = datetime(year = 2000, month = 1, day = 1), client_phone_number = fake.phone_number())\n",
        "      session.add(client)\n",
        "      session.flush()\n",
        "      print('Запись изменена')\n",
        "  except SQLAlchemyError:\n",
        "      session.rollback()\n",
        "      print('Запись не была изменена')"
      ],
      "metadata": {
        "colab": {
          "base_uri": "https://localhost:8080/"
        },
        "cellView": "form",
        "id": "QocKcsX6PquW",
        "outputId": "30014ca9-bc70-4496-8648-3c583bfe0b91"
      },
      "execution_count": null,
      "outputs": [
        {
          "output_type": "stream",
          "name": "stdout",
          "text": [
            "Запись изменена\n"
          ]
        }
      ]
    },
    {
      "cell_type": "code",
      "source": [
        "# @title Триггер\n",
        "trigger_request = DDL('''\\\n",
        "CREATE TRIGGER change_subscriptions\n",
        "AFTER INSERT OR UPDATE ON subscriptions\n",
        "BEGIN\n",
        "     SELECT 'Добавленная или измененная запись: ID:' || NEW.subscription_ID || ,'\\nДата начала абонемента = ' || NEW.subscriptions.subscription_start_day || ',\\nДата конца абонемента = ' || NEW.subscriptions.subscription_end_day\n",
        "END;\n",
        "''')\n",
        "event.listen(Subscription.__table__, 'after_create', trigger_request)"
      ],
      "metadata": {
        "colab": {
          "base_uri": "https://localhost:8080/"
        },
        "id": "Y8mlUDS28GAE",
        "outputId": "b2b5ee23-5fc1-493c-c97b-1edef9acedd5"
      },
      "execution_count": null,
      "outputs": [
        {
          "output_type": "stream",
          "name": "stderr",
          "text": [
            "<ipython-input-92-8eb84f49abad>:12: LegacyAPIWarning: The Query.get() method is considered legacy as of the 1.x series of SQLAlchemy and becomes a legacy construct in 2.0. The method is now available as Session.get() (deprecated since: 2.0) (Background on SQLAlchemy 2.0 at: https://sqlalche.me/e/b8d9)\n",
            "  subscription = session.query(Subscription).get(1)\n"
          ]
        }
      ]
    },
    {
      "cell_type": "code",
      "source": [
        "# @title Представление\n",
        "import sqlalchemy as sa\n",
        "from sqlalchemy.ext import compiler\n",
        "from sqlalchemy.schema import DDLElement\n",
        "from sqlalchemy.sql import table\n",
        "\n",
        "\n",
        "class CreateView(DDLElement):\n",
        "    def __init__(self, name, selectable):\n",
        "        self.name = name\n",
        "        self.selectable = selectable\n",
        "\n",
        "\n",
        "class DropView(DDLElement):\n",
        "    def __init__(self, name):\n",
        "        self.name = name\n",
        "\n",
        "\n",
        "@compiler.compiles(CreateView)\n",
        "def _create_view(element, compiler, **kw):\n",
        "    return \"CREATE VIEW %s AS %s\" % (\n",
        "        element.name,\n",
        "        compiler.sql_compiler.process(element.selectable, literal_binds=True),\n",
        "    )\n",
        "\n",
        "\n",
        "@compiler.compiles(DropView)\n",
        "def _drop_view(element, compiler, **kw):\n",
        "    return \"DROP VIEW %s\" % (element.name)\n",
        "\n",
        "\n",
        "def view_exists(ddl, target, connection, **kw):\n",
        "    return ddl.name in sa.inspect(connection).get_view_names()\n",
        "\n",
        "\n",
        "def view_doesnt_exist(ddl, target, connection, **kw):\n",
        "    return not view_exists(ddl, target, connection, **kw)\n",
        "\n",
        "\n",
        "def view(name, metadata, selectable):\n",
        "    t = table(name)\n",
        "\n",
        "    t._columns._populate_separate_keys(\n",
        "        col._make_proxy(t) for col in selectable.selected_columns\n",
        "    )\n",
        "\n",
        "    sa.event.listen(\n",
        "        metadata,\n",
        "        \"after_create\",\n",
        "        CreateView(name, selectable).execute_if(callable_=view_doesnt_exist),\n",
        "    )\n",
        "    sa.event.listen(\n",
        "        metadata, \"before_drop\", DropView(name).execute_if(callable_=view_exists)\n",
        "    )\n",
        "    return t\n",
        "\n",
        "\n",
        "if __name__ == \"__main__\":\n",
        "    metadata = sa.MetaData()\n",
        "\n",
        "    stuff_view = view(\n",
        "        \"stuff_view\",\n",
        "        metadata,\n",
        "        sa.select(\n",
        "            stuff.c.id.label(\"id\"),\n",
        "            stuff.c.data.label(\"data\"),\n",
        "            more_stuff.c.data.label(\"moredata\"),\n",
        "        )\n",
        "        .select_from(stuff.join(more_stuff))\n",
        "        .where(stuff.c.data.like((\"%orange%\"))),\n",
        "    )\n",
        "\n",
        "    # illustrate ORM usage\n",
        "    from sqlalchemy.orm import declarative_base\n",
        "    from sqlalchemy.orm import Session\n",
        "\n",
        "    Base = declarative_base(metadata=metadata)\n",
        "\n",
        "    class MyStuff(Base):\n",
        "        __table__ = stuff_view\n",
        "\n",
        "        def __repr__(self):\n",
        "            return f\"MyStuff({self.id!r}, {self.data!r}, {self.moredata!r})\"\n",
        "\n",
        "    with Session(engine) as s:\n",
        "        print(s.query(MyStuff).all())"
      ],
      "metadata": {
        "cellView": "form",
        "id": "WPQnepMvUZ0p"
      },
      "execution_count": null,
      "outputs": []
    }
  ]
}